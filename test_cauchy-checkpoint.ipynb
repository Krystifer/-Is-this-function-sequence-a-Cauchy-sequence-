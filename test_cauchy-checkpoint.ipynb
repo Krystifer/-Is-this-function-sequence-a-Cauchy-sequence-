{
 "cells": [
  {
   "cell_type": "code",
   "execution_count": 26,
   "id": "placed-compact",
   "metadata": {},
   "outputs": [],
   "source": [
    "import scipy.optimize\n",
    "from scipy.optimize import minimize_scalar\n",
    "import numpy as np\n",
    "import matplotlib.pyplot as plt"
   ]
  },
  {
   "cell_type": "code",
   "execution_count": 27,
   "id": "configured-montana",
   "metadata": {},
   "outputs": [],
   "source": [
    "def initial_func(x):             #Initial condition (initial function)                \n",
    "    return ((np.pi)/4.)*np.sin(np.pi*x)"
   ]
  },
  {
   "cell_type": "code",
   "execution_count": 28,
   "id": "equal-panama",
   "metadata": {},
   "outputs": [],
   "source": [
    "def T(x):                        #Transformation\n",
    "    return np.sin(np.pi*x)\n"
   ]
  },
  {
   "cell_type": "code",
   "execution_count": 29,
   "id": "appropriate-exhibit",
   "metadata": {},
   "outputs": [],
   "source": [
    "def comp_func(n,x0):             #compose n times, n>=1, e.g. if n=2 then 2 compositions are performed\n",
    "    y = lambda x: T(x0(x))\n",
    "    if n-1==0:\n",
    "        return y\n",
    "    else:\n",
    "        return comp_func(n-1,y)"
   ]
  },
  {
   "cell_type": "code",
   "execution_count": 30,
   "id": "computational-respect",
   "metadata": {},
   "outputs": [],
   "source": [
    "def norm(xn,xm):                 #optimization (using the norm of the maximum)\n",
    "    f = lambda x: np.abs(xn(x)-xm(x))        \n",
    "    max_y = scipy.optimize.minimize_scalar(lambda x: -f(x), method = \"bounded\", bounds=(-1,1))  # finds the maximum of f \n",
    "    y=np.abs(max_y.fun)                                                                         # on the interval (-1,1)\n",
    "    #print(\"The maximum value of f on this interval is\", y) <--- to see the values\n",
    "    return y"
   ]
  },
  {
   "cell_type": "code",
   "execution_count": 31,
   "id": "sporting-february",
   "metadata": {},
   "outputs": [],
   "source": [
    "mtx_size = 30     \n",
    "data = np.array([norm(comp_func(n, initial_func),comp_func(m, initial_func)) \n",
    "                 for n in range(1, mtx_size) for m in range(1, mtx_size)])\n",
    "\n",
    "# For conceptual facility, since n is the number of compositions it is preferred to start it in 1 and not with zero."
   ]
  },
  {
   "cell_type": "markdown",
   "id": "stretch-surfing",
   "metadata": {},
   "source": [
    "### color map"
   ]
  },
  {
   "cell_type": "code",
   "execution_count": 32,
   "id": "important-deviation",
   "metadata": {},
   "outputs": [
    {
     "data": {
      "text/plain": [
       "Text(0, 0.5, 'm')"
      ]
     },
     "execution_count": 32,
     "metadata": {},
     "output_type": "execute_result"
    },
    {
     "data": {
      "image/png": "[encoded data removed]",
      "text/plain": [
       "<Figure size 288x288 with 2 Axes>"
      ]
     },
     "metadata": {
      "needs_background": "light"
     },
     "output_type": "display_data"
    }
   ],
   "source": [
    "matrix = np.array(data.reshape(mtx_size-1,mtx_size-1))\n",
    "plt.matshow(matrix, fignum=None, cmap= 'cividis', vmax=1)\n",
    "plt.colorbar()\n",
    "\n",
    "plt.xlabel(\"n\")\n",
    "plt.ylabel(\"m\")"
   ]
  },
  {
   "cell_type": "code",
   "execution_count": null,
   "id": "exotic-direction",
   "metadata": {},
   "outputs": [],
   "source": []
  }
 ],
 "metadata": {
  "kernelspec": {
   "display_name": "Python 3",
   "language": "python",
   "name": "python3"
  },
  "language_info": {
   "codemirror_mode": {
    "name": "ipython",
    "version": 3
   },
   "file_extension": ".py",
   "mimetype": "text/x-python",
   "name": "python",
   "nbconvert_exporter": "python",
   "pygments_lexer": "ipython3",
   "version": "3.8.8"
  }
 },
 "nbformat": 4,
 "nbformat_minor": 5
}
